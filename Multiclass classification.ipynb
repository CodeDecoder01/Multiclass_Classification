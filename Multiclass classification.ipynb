{
 "cells": [
  {
   "cell_type": "code",
   "execution_count": 285,
   "metadata": {},
   "outputs": [],
   "source": [
    "import pandas as pd\n",
    "from sklearn.metrics import confusion_matrix,accuracy_score\n",
    "from sklearn.model_selection import train_test_split "
   ]
  },
  {
   "cell_type": "code",
   "execution_count": 286,
   "metadata": {},
   "outputs": [],
   "source": [
    "train=pd.read_csv(\"train.csv\")"
   ]
  },
  {
   "cell_type": "code",
   "execution_count": 287,
   "metadata": {},
   "outputs": [
    {
     "data": {
      "text/plain": [
       "(1529, 53)"
      ]
     },
     "execution_count": 287,
     "metadata": {},
     "output_type": "execute_result"
    }
   ],
   "source": [
    "train.shape"
   ]
  },
  {
   "cell_type": "code",
   "execution_count": 288,
   "metadata": {},
   "outputs": [
    {
     "data": {
      "text/html": [
       "<div>\n",
       "<style scoped>\n",
       "    .dataframe tbody tr th:only-of-type {\n",
       "        vertical-align: middle;\n",
       "    }\n",
       "\n",
       "    .dataframe tbody tr th {\n",
       "        vertical-align: top;\n",
       "    }\n",
       "\n",
       "    .dataframe thead th {\n",
       "        text-align: right;\n",
       "    }\n",
       "</style>\n",
       "<table border=\"1\" class=\"dataframe\">\n",
       "  <thead>\n",
       "    <tr style=\"text-align: right;\">\n",
       "      <th></th>\n",
       "      <th>ID</th>\n",
       "      <th>para_0</th>\n",
       "      <th>para_1</th>\n",
       "      <th>para_2</th>\n",
       "      <th>para_3</th>\n",
       "      <th>para_4</th>\n",
       "      <th>para_5</th>\n",
       "      <th>para_6</th>\n",
       "      <th>para_7</th>\n",
       "      <th>para_8</th>\n",
       "      <th>...</th>\n",
       "      <th>para_42</th>\n",
       "      <th>para_43</th>\n",
       "      <th>para_44</th>\n",
       "      <th>para_45</th>\n",
       "      <th>para_46</th>\n",
       "      <th>para_47</th>\n",
       "      <th>para_48</th>\n",
       "      <th>para_49</th>\n",
       "      <th>para_50</th>\n",
       "      <th>Result</th>\n",
       "    </tr>\n",
       "  </thead>\n",
       "  <tbody>\n",
       "    <tr>\n",
       "      <th>0</th>\n",
       "      <td>1</td>\n",
       "      <td>0.97122</td>\n",
       "      <td>0.83152</td>\n",
       "      <td>-0.57052</td>\n",
       "      <td>0.99590</td>\n",
       "      <td>0.762820</td>\n",
       "      <td>0.032973</td>\n",
       "      <td>-0.69248</td>\n",
       "      <td>-0.55397</td>\n",
       "      <td>-0.473470</td>\n",
       "      <td>...</td>\n",
       "      <td>-0.112290</td>\n",
       "      <td>0.12326</td>\n",
       "      <td>0.990180</td>\n",
       "      <td>-0.50457</td>\n",
       "      <td>0.12478</td>\n",
       "      <td>0.36049</td>\n",
       "      <td>-0.10158</td>\n",
       "      <td>-0.36256</td>\n",
       "      <td>0.21309</td>\n",
       "      <td>h0</td>\n",
       "    </tr>\n",
       "    <tr>\n",
       "      <th>1</th>\n",
       "      <td>2</td>\n",
       "      <td>-0.47565</td>\n",
       "      <td>0.43977</td>\n",
       "      <td>-0.50892</td>\n",
       "      <td>-0.35476</td>\n",
       "      <td>-0.435490</td>\n",
       "      <td>-0.618170</td>\n",
       "      <td>0.62963</td>\n",
       "      <td>-0.28157</td>\n",
       "      <td>-0.229950</td>\n",
       "      <td>...</td>\n",
       "      <td>0.026975</td>\n",
       "      <td>-0.55423</td>\n",
       "      <td>0.004867</td>\n",
       "      <td>-0.28715</td>\n",
       "      <td>-0.55678</td>\n",
       "      <td>-0.48990</td>\n",
       "      <td>-0.56377</td>\n",
       "      <td>-0.22229</td>\n",
       "      <td>0.63568</td>\n",
       "      <td>h0</td>\n",
       "    </tr>\n",
       "    <tr>\n",
       "      <th>2</th>\n",
       "      <td>3</td>\n",
       "      <td>-0.48641</td>\n",
       "      <td>-0.26590</td>\n",
       "      <td>-0.71295</td>\n",
       "      <td>-0.42638</td>\n",
       "      <td>-0.022972</td>\n",
       "      <td>-0.336080</td>\n",
       "      <td>0.15184</td>\n",
       "      <td>-0.28157</td>\n",
       "      <td>-0.227910</td>\n",
       "      <td>...</td>\n",
       "      <td>0.026975</td>\n",
       "      <td>-0.46864</td>\n",
       "      <td>-1.242700</td>\n",
       "      <td>-0.49820</td>\n",
       "      <td>-0.47720</td>\n",
       "      <td>-0.41047</td>\n",
       "      <td>0.22427</td>\n",
       "      <td>-0.21519</td>\n",
       "      <td>-0.16009</td>\n",
       "      <td>h3</td>\n",
       "    </tr>\n",
       "    <tr>\n",
       "      <th>3</th>\n",
       "      <td>4</td>\n",
       "      <td>-0.99236</td>\n",
       "      <td>-1.06970</td>\n",
       "      <td>-0.87621</td>\n",
       "      <td>-0.98453</td>\n",
       "      <td>-0.091183</td>\n",
       "      <td>-0.701840</td>\n",
       "      <td>0.35559</td>\n",
       "      <td>0.26323</td>\n",
       "      <td>0.138290</td>\n",
       "      <td>...</td>\n",
       "      <td>0.096610</td>\n",
       "      <td>-0.41310</td>\n",
       "      <td>-1.244000</td>\n",
       "      <td>-0.53871</td>\n",
       "      <td>-0.41947</td>\n",
       "      <td>-0.31858</td>\n",
       "      <td>0.63729</td>\n",
       "      <td>-0.21295</td>\n",
       "      <td>-0.57671</td>\n",
       "      <td>h0</td>\n",
       "    </tr>\n",
       "    <tr>\n",
       "      <th>4</th>\n",
       "      <td>5</td>\n",
       "      <td>-0.45878</td>\n",
       "      <td>-0.55809</td>\n",
       "      <td>-0.28180</td>\n",
       "      <td>-0.50519</td>\n",
       "      <td>-0.424630</td>\n",
       "      <td>0.050215</td>\n",
       "      <td>0.35867</td>\n",
       "      <td>0.67183</td>\n",
       "      <td>0.045001</td>\n",
       "      <td>...</td>\n",
       "      <td>0.305510</td>\n",
       "      <td>-0.57834</td>\n",
       "      <td>-1.519900</td>\n",
       "      <td>-0.46202</td>\n",
       "      <td>-0.55678</td>\n",
       "      <td>-0.48990</td>\n",
       "      <td>-0.27750</td>\n",
       "      <td>-0.46486</td>\n",
       "      <td>0.42153</td>\n",
       "      <td>h0</td>\n",
       "    </tr>\n",
       "  </tbody>\n",
       "</table>\n",
       "<p>5 rows × 53 columns</p>\n",
       "</div>"
      ],
      "text/plain": [
       "   ID   para_0   para_1   para_2   para_3    para_4    para_5   para_6  \\\n",
       "0   1  0.97122  0.83152 -0.57052  0.99590  0.762820  0.032973 -0.69248   \n",
       "1   2 -0.47565  0.43977 -0.50892 -0.35476 -0.435490 -0.618170  0.62963   \n",
       "2   3 -0.48641 -0.26590 -0.71295 -0.42638 -0.022972 -0.336080  0.15184   \n",
       "3   4 -0.99236 -1.06970 -0.87621 -0.98453 -0.091183 -0.701840  0.35559   \n",
       "4   5 -0.45878 -0.55809 -0.28180 -0.50519 -0.424630  0.050215  0.35867   \n",
       "\n",
       "    para_7    para_8  ...   para_42  para_43   para_44  para_45  para_46  \\\n",
       "0 -0.55397 -0.473470  ... -0.112290  0.12326  0.990180 -0.50457  0.12478   \n",
       "1 -0.28157 -0.229950  ...  0.026975 -0.55423  0.004867 -0.28715 -0.55678   \n",
       "2 -0.28157 -0.227910  ...  0.026975 -0.46864 -1.242700 -0.49820 -0.47720   \n",
       "3  0.26323  0.138290  ...  0.096610 -0.41310 -1.244000 -0.53871 -0.41947   \n",
       "4  0.67183  0.045001  ...  0.305510 -0.57834 -1.519900 -0.46202 -0.55678   \n",
       "\n",
       "   para_47  para_48  para_49  para_50  Result  \n",
       "0  0.36049 -0.10158 -0.36256  0.21309      h0  \n",
       "1 -0.48990 -0.56377 -0.22229  0.63568      h0  \n",
       "2 -0.41047  0.22427 -0.21519 -0.16009      h3  \n",
       "3 -0.31858  0.63729 -0.21295 -0.57671      h0  \n",
       "4 -0.48990 -0.27750 -0.46486  0.42153      h0  \n",
       "\n",
       "[5 rows x 53 columns]"
      ]
     },
     "execution_count": 288,
     "metadata": {},
     "output_type": "execute_result"
    }
   ],
   "source": [
    "train.head()"
   ]
  },
  {
   "cell_type": "code",
   "execution_count": 289,
   "metadata": {},
   "outputs": [
    {
     "data": {
      "text/plain": [
       "ID         0\n",
       "para_0     0\n",
       "para_1     0\n",
       "para_2     0\n",
       "para_3     0\n",
       "para_4     0\n",
       "para_5     0\n",
       "para_6     0\n",
       "para_7     0\n",
       "para_8     0\n",
       "para_9     0\n",
       "para_10    0\n",
       "para_11    0\n",
       "para_12    0\n",
       "para_13    0\n",
       "para_14    0\n",
       "para_15    0\n",
       "para_16    0\n",
       "para_17    0\n",
       "para_18    0\n",
       "para_19    0\n",
       "para_20    0\n",
       "para_21    0\n",
       "para_22    0\n",
       "para_23    0\n",
       "para_24    0\n",
       "para_25    0\n",
       "para_26    0\n",
       "para_27    0\n",
       "para_28    0\n",
       "para_29    0\n",
       "para_30    0\n",
       "para_31    0\n",
       "para_32    0\n",
       "para_33    0\n",
       "para_34    0\n",
       "para_35    0\n",
       "para_36    0\n",
       "para_37    0\n",
       "para_38    0\n",
       "para_39    0\n",
       "para_40    0\n",
       "para_41    0\n",
       "para_42    0\n",
       "para_43    0\n",
       "para_44    0\n",
       "para_45    0\n",
       "para_46    0\n",
       "para_47    0\n",
       "para_48    0\n",
       "para_49    0\n",
       "para_50    0\n",
       "Result     0\n",
       "dtype: int64"
      ]
     },
     "execution_count": 289,
     "metadata": {},
     "output_type": "execute_result"
    }
   ],
   "source": [
    "train.isnull().sum()"
   ]
  },
  {
   "cell_type": "code",
   "execution_count": 290,
   "metadata": {},
   "outputs": [],
   "source": [
    "train_x=train.drop(['Result','ID'],axis=1)"
   ]
  },
  {
   "cell_type": "code",
   "execution_count": 291,
   "metadata": {},
   "outputs": [],
   "source": [
    "train_y=train['Result']"
   ]
  },
  {
   "cell_type": "code",
   "execution_count": 292,
   "metadata": {},
   "outputs": [
    {
     "data": {
      "text/plain": [
       "(1529, 51)"
      ]
     },
     "execution_count": 292,
     "metadata": {},
     "output_type": "execute_result"
    }
   ],
   "source": [
    "train_x.shape"
   ]
  },
  {
   "cell_type": "code",
   "execution_count": 293,
   "metadata": {},
   "outputs": [],
   "source": [
    "#x_train=train_x[:900]\n",
    "#x_validat=train_x[900:]\n",
    "x_train, x_validat, y_train, y_validat = train_test_split(train_x,train_y, random_state = 0) "
   ]
  },
  {
   "cell_type": "code",
   "execution_count": 268,
   "metadata": {},
   "outputs": [],
   "source": [
    "#y_train=train_y[:900]\n",
    "#y_validat=train_y[900:]"
   ]
  },
  {
   "cell_type": "markdown",
   "metadata": {},
   "source": [
    "# Decision tree with default max depth"
   ]
  },
  {
   "cell_type": "code",
   "execution_count": 294,
   "metadata": {},
   "outputs": [],
   "source": [
    "from sklearn.tree import DecisionTreeClassifier"
   ]
  },
  {
   "cell_type": "code",
   "execution_count": 295,
   "metadata": {},
   "outputs": [],
   "source": [
    "decisiontree=DecisionTreeClassifier().fit(x_train,y_train)"
   ]
  },
  {
   "cell_type": "code",
   "execution_count": 296,
   "metadata": {},
   "outputs": [],
   "source": [
    "predict=decisiontree.predict(x_validat)"
   ]
  },
  {
   "cell_type": "code",
   "execution_count": 297,
   "metadata": {},
   "outputs": [],
   "source": [
    "cm=confusion_matrix(predict,y_validat)"
   ]
  },
  {
   "cell_type": "code",
   "execution_count": 298,
   "metadata": {},
   "outputs": [
    {
     "name": "stdout",
     "output_type": "stream",
     "text": [
      "[[111  17   7   4   3  11]\n",
      " [ 10  26   5  15   5   3]\n",
      " [ 14   6  10   0   0   1]\n",
      " [ 10   9   7  15   2   4]\n",
      " [  5  12   4   2   6   5]\n",
      " [ 21   5   5   6   5  12]]\n"
     ]
    }
   ],
   "source": [
    "print(cm)\n"
   ]
  },
  {
   "cell_type": "code",
   "execution_count": 299,
   "metadata": {},
   "outputs": [
    {
     "data": {
      "text/plain": [
       "0.4699738903394256"
      ]
     },
     "execution_count": 299,
     "metadata": {},
     "output_type": "execute_result"
    }
   ],
   "source": [
    "accuracy_score(predict,y_validat)"
   ]
  },
  {
   "cell_type": "markdown",
   "metadata": {},
   "source": [
    "# Decision tree with max depth=5"
   ]
  },
  {
   "cell_type": "code",
   "execution_count": 300,
   "metadata": {},
   "outputs": [],
   "source": [
    "decisiontree=DecisionTreeClassifier(max_depth=5,criterion='gini').fit(x_train,y_train)"
   ]
  },
  {
   "cell_type": "code",
   "execution_count": 301,
   "metadata": {},
   "outputs": [],
   "source": [
    "predict=decisiontree.predict(x_validat)"
   ]
  },
  {
   "cell_type": "code",
   "execution_count": 302,
   "metadata": {},
   "outputs": [],
   "source": [
    "cm=confusion_matrix(predict,y_validat)"
   ]
  },
  {
   "cell_type": "code",
   "execution_count": 303,
   "metadata": {},
   "outputs": [
    {
     "name": "stdout",
     "output_type": "stream",
     "text": [
      "[[144  40  17  16   6  18]\n",
      " [  4  12   7   5   6   0]\n",
      " [  5   2   5   4   0   0]\n",
      " [  7   5   4  10   2   3]\n",
      " [  2   3   0   0   3   2]\n",
      " [  9  13   5   7   4  13]]\n"
     ]
    }
   ],
   "source": [
    "print(cm)"
   ]
  },
  {
   "cell_type": "markdown",
   "metadata": {},
   "source": [
    "### Provides better accuracy"
   ]
  },
  {
   "cell_type": "code",
   "execution_count": 304,
   "metadata": {},
   "outputs": [
    {
     "data": {
      "text/plain": [
       "0.48825065274151436"
      ]
     },
     "execution_count": 304,
     "metadata": {},
     "output_type": "execute_result"
    }
   ],
   "source": [
    "accuracy_score(predict,y_validat)"
   ]
  },
  {
   "cell_type": "markdown",
   "metadata": {},
   "source": [
    "# Random Forest Classifier"
   ]
  },
  {
   "cell_type": "code",
   "execution_count": 305,
   "metadata": {},
   "outputs": [],
   "source": [
    "from sklearn.ensemble import RandomForestClassifier"
   ]
  },
  {
   "cell_type": "code",
   "execution_count": 306,
   "metadata": {},
   "outputs": [
    {
     "name": "stdout",
     "output_type": "stream",
     "text": [
      "[[137  24  14  13   5  11]\n",
      " [ 10  21   6   6   5   1]\n",
      " [  3   4  11   2   0   0]\n",
      " [ 12  11   5  16   2   6]\n",
      " [  2  10   1   0   3   3]\n",
      " [  7   5   1   5   6  15]]\n"
     ]
    }
   ],
   "source": [
    "randomclassifier=RandomForestClassifier(n_estimators=100,criterion='gini')\n",
    "randommodel=randomclassifier.fit(x_train,y_train)\n",
    "predict=randommodel.predict(x_validat)\n",
    "cm=confusion_matrix(predict,y_validat)\n",
    "print(cm)"
   ]
  },
  {
   "cell_type": "markdown",
   "metadata": {},
   "source": [
    "### Best Accuracy"
   ]
  },
  {
   "cell_type": "code",
   "execution_count": 307,
   "metadata": {},
   "outputs": [
    {
     "data": {
      "text/plain": [
       "0.5300261096605744"
      ]
     },
     "execution_count": 307,
     "metadata": {},
     "output_type": "execute_result"
    }
   ],
   "source": [
    "accuracy_score(predict,y_validat)"
   ]
  },
  {
   "cell_type": "markdown",
   "metadata": {},
   "source": [
    "# Logistic Regression"
   ]
  },
  {
   "cell_type": "code",
   "execution_count": 308,
   "metadata": {},
   "outputs": [
    {
     "name": "stdout",
     "output_type": "stream",
     "text": [
      "[[135  31  17  13   9  12]\n",
      " [ 10  21   4  10   3   4]\n",
      " [  3   2   1   1   0   0]\n",
      " [  9   5   5  12   1   3]\n",
      " [  7   4   4   0   4   4]\n",
      " [  7  12   7   6   4  13]]\n"
     ]
    }
   ],
   "source": [
    "from sklearn.linear_model import LogisticRegression \n",
    "classifier = LogisticRegression(solver='lbfgs',max_iter=200, multi_class='auto') \n",
    "logclass=classifier.fit(x_train, y_train) \n",
    "predict=logclass.predict(x_validat)\n",
    "cm=confusion_matrix(predict,y_validat)\n",
    "print(cm)\n"
   ]
  },
  {
   "cell_type": "code",
   "execution_count": 309,
   "metadata": {},
   "outputs": [
    {
     "data": {
      "text/plain": [
       "0.4856396866840731"
      ]
     },
     "execution_count": 309,
     "metadata": {},
     "output_type": "execute_result"
    }
   ],
   "source": [
    "accuracy_score(predict,y_validat)"
   ]
  },
  {
   "cell_type": "markdown",
   "metadata": {},
   "source": [
    "# Support Vector Machine"
   ]
  },
  {
   "cell_type": "code",
   "execution_count": 318,
   "metadata": {},
   "outputs": [
    {
     "name": "stdout",
     "output_type": "stream",
     "text": [
      "[[140  32  16  14   8  13]\n",
      " [  9  22   6   9   3   1]\n",
      " [  2   3   3   1   1   0]\n",
      " [  6   3   5  12   1   3]\n",
      " [  5   0   1   1   4   4]\n",
      " [  9  15   7   5   4  15]]\n"
     ]
    }
   ],
   "source": [
    "from sklearn.svm import SVC \n",
    "svmclassifier = SVC(kernel = 'linear', C = 5).fit(x_train, y_train) \n",
    "predict = svmclassifier.predict(x_validat)\n",
    "cm=confusion_matrix(predict,y_validat)\n",
    "print(cm)\n"
   ]
  },
  {
   "cell_type": "code",
   "execution_count": 319,
   "metadata": {},
   "outputs": [
    {
     "data": {
      "text/plain": [
       "0.5117493472584856"
      ]
     },
     "execution_count": 319,
     "metadata": {},
     "output_type": "execute_result"
    }
   ],
   "source": [
    "accuracy_score(predict,y_validat)"
   ]
  },
  {
   "cell_type": "markdown",
   "metadata": {},
   "source": [
    "# K-Nearest neighbours"
   ]
  },
  {
   "cell_type": "code",
   "execution_count": 324,
   "metadata": {},
   "outputs": [
    {
     "name": "stdout",
     "output_type": "stream",
     "text": [
      "[[146  37  23  14   7  13]\n",
      " [ 11  23   7  10   5   6]\n",
      " [  4   3   5   2   0   4]\n",
      " [  6   3   1  16   3   3]\n",
      " [  3   4   0   0   4   2]\n",
      " [  1   5   2   0   2   8]]\n"
     ]
    }
   ],
   "source": [
    "from sklearn.neighbors import KNeighborsClassifier \n",
    "knn = KNeighborsClassifier(n_neighbors = 10).fit(x_train, y_train) \n",
    "predict = knn.predict(x_validat)\n",
    "cm=confusion_matrix(predict,y_validat)\n",
    "print(cm)"
   ]
  },
  {
   "cell_type": "code",
   "execution_count": 325,
   "metadata": {},
   "outputs": [
    {
     "data": {
      "text/plain": [
       "0.5274151436031331"
      ]
     },
     "execution_count": 325,
     "metadata": {},
     "output_type": "execute_result"
    }
   ],
   "source": [
    "accuracy_score(predict,y_validat)"
   ]
  },
  {
   "cell_type": "code",
   "execution_count": null,
   "metadata": {},
   "outputs": [],
   "source": []
  }
 ],
 "metadata": {
  "kernelspec": {
   "display_name": "Python 3",
   "language": "python",
   "name": "python3"
  },
  "language_info": {
   "codemirror_mode": {
    "name": "ipython",
    "version": 3
   },
   "file_extension": ".py",
   "mimetype": "text/x-python",
   "name": "python",
   "nbconvert_exporter": "python",
   "pygments_lexer": "ipython3",
   "version": "3.7.3"
  }
 },
 "nbformat": 4,
 "nbformat_minor": 2
}
